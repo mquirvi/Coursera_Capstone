{
 "cells": [
  {
   "cell_type": "markdown",
   "metadata": {},
   "source": [
    "# __Peer-graded Assignment Week 3__"
   ]
  },
  {
   "cell_type": "markdown",
   "metadata": {},
   "source": [
    "## __Part 1 of 3__"
   ]
  },
  {
   "cell_type": "markdown",
   "metadata": {},
   "source": [
    "### Task: __Create the initial dataframe taking the information from wikipedia__"
   ]
  },
  {
   "cell_type": "code",
   "execution_count": 1,
   "metadata": {},
   "outputs": [],
   "source": [
    "#!pip install lxml  # a missing library"
   ]
  },
  {
   "cell_type": "code",
   "execution_count": 2,
   "metadata": {},
   "outputs": [],
   "source": [
    "import pandas as pd"
   ]
  },
  {
   "cell_type": "markdown",
   "metadata": {},
   "source": [
    "### Scrape the wikipedia page and convert it to dataframe"
   ]
  },
  {
   "cell_type": "code",
   "execution_count": 3,
   "metadata": {},
   "outputs": [
    {
     "name": "stdout",
     "output_type": "stream",
     "text": [
      "Initial shape: (180, 3)\n"
     ]
    }
   ],
   "source": [
    "toronto = pd.read_html('https://en.wikipedia.org/wiki/List_of_postal_codes_of_Canada:_M')\n",
    "df = toronto[0]\n",
    "df.head(3)\n",
    "print('Initial shape:', df.shape)"
   ]
  },
  {
   "cell_type": "markdown",
   "metadata": {},
   "source": [
    "### Drop any row 'Not assigned' in borough"
   ]
  },
  {
   "cell_type": "code",
   "execution_count": 4,
   "metadata": {},
   "outputs": [
    {
     "name": "stdout",
     "output_type": "stream",
     "text": [
      "new shape: (103, 3)\n"
     ]
    }
   ],
   "source": [
    "df = df[df.Borough!='Not assigned']\n",
    "print('new shape:',df.shape)"
   ]
  },
  {
   "cell_type": "markdown",
   "metadata": {},
   "source": [
    "### Verify there is no Neighbourhood not assigned to any borough"
   ]
  },
  {
   "cell_type": "code",
   "execution_count": 5,
   "metadata": {},
   "outputs": [
    {
     "data": {
      "text/html": [
       "<div>\n",
       "<style scoped>\n",
       "    .dataframe tbody tr th:only-of-type {\n",
       "        vertical-align: middle;\n",
       "    }\n",
       "\n",
       "    .dataframe tbody tr th {\n",
       "        vertical-align: top;\n",
       "    }\n",
       "\n",
       "    .dataframe thead th {\n",
       "        text-align: right;\n",
       "    }\n",
       "</style>\n",
       "<table border=\"1\" class=\"dataframe\">\n",
       "  <thead>\n",
       "    <tr style=\"text-align: right;\">\n",
       "      <th></th>\n",
       "      <th>Postal Code</th>\n",
       "      <th>Borough</th>\n",
       "      <th>Neighbourhood</th>\n",
       "    </tr>\n",
       "  </thead>\n",
       "  <tbody>\n",
       "  </tbody>\n",
       "</table>\n",
       "</div>"
      ],
      "text/plain": [
       "Empty DataFrame\n",
       "Columns: [Postal Code, Borough, Neighbourhood]\n",
       "Index: []"
      ]
     },
     "execution_count": 5,
     "metadata": {},
     "output_type": "execute_result"
    }
   ],
   "source": [
    "df[df.Neighbourhood=='Not assigned']"
   ]
  },
  {
   "cell_type": "markdown",
   "metadata": {},
   "source": [
    "### Check df and shape"
   ]
  },
  {
   "cell_type": "code",
   "execution_count": 6,
   "metadata": {},
   "outputs": [
    {
     "data": {
      "text/html": [
       "<div>\n",
       "<style scoped>\n",
       "    .dataframe tbody tr th:only-of-type {\n",
       "        vertical-align: middle;\n",
       "    }\n",
       "\n",
       "    .dataframe tbody tr th {\n",
       "        vertical-align: top;\n",
       "    }\n",
       "\n",
       "    .dataframe thead th {\n",
       "        text-align: right;\n",
       "    }\n",
       "</style>\n",
       "<table border=\"1\" class=\"dataframe\">\n",
       "  <thead>\n",
       "    <tr style=\"text-align: right;\">\n",
       "      <th></th>\n",
       "      <th>Postal Code</th>\n",
       "      <th>Borough</th>\n",
       "      <th>Neighbourhood</th>\n",
       "    </tr>\n",
       "  </thead>\n",
       "  <tbody>\n",
       "    <tr>\n",
       "      <th>2</th>\n",
       "      <td>M3A</td>\n",
       "      <td>North York</td>\n",
       "      <td>Parkwoods</td>\n",
       "    </tr>\n",
       "    <tr>\n",
       "      <th>3</th>\n",
       "      <td>M4A</td>\n",
       "      <td>North York</td>\n",
       "      <td>Victoria Village</td>\n",
       "    </tr>\n",
       "    <tr>\n",
       "      <th>4</th>\n",
       "      <td>M5A</td>\n",
       "      <td>Downtown Toronto</td>\n",
       "      <td>Regent Park, Harbourfront</td>\n",
       "    </tr>\n",
       "  </tbody>\n",
       "</table>\n",
       "</div>"
      ],
      "text/plain": [
       "  Postal Code           Borough              Neighbourhood\n",
       "2         M3A        North York                  Parkwoods\n",
       "3         M4A        North York           Victoria Village\n",
       "4         M5A  Downtown Toronto  Regent Park, Harbourfront"
      ]
     },
     "execution_count": 6,
     "metadata": {},
     "output_type": "execute_result"
    }
   ],
   "source": [
    "df.head(3)"
   ]
  },
  {
   "cell_type": "code",
   "execution_count": 7,
   "metadata": {},
   "outputs": [
    {
     "data": {
      "text/plain": [
       "(103, 3)"
      ]
     },
     "execution_count": 7,
     "metadata": {},
     "output_type": "execute_result"
    }
   ],
   "source": [
    "df.shape"
   ]
  },
  {
   "cell_type": "markdown",
   "metadata": {},
   "source": [
    "***"
   ]
  },
  {
   "cell_type": "markdown",
   "metadata": {},
   "source": [
    "## __Part 2 of 3__"
   ]
  },
  {
   "cell_type": "markdown",
   "metadata": {},
   "source": [
    "### Task: __Get the latitude and longitude coordinates of each neighborhood__"
   ]
  },
  {
   "cell_type": "code",
   "execution_count": 8,
   "metadata": {},
   "outputs": [],
   "source": [
    "#!pip instal pgeocode\n",
    "import pgeocode"
   ]
  },
  {
   "cell_type": "markdown",
   "metadata": {},
   "source": [
    "### Get latitude and longitude from postal codes"
   ]
  },
  {
   "cell_type": "code",
   "execution_count": 9,
   "metadata": {},
   "outputs": [
    {
     "name": "stdout",
     "output_type": "stream",
     "text": [
      "Length of latitudes, logitude lists: 103 , 103\n"
     ]
    }
   ],
   "source": [
    "lats = []\n",
    "longs= []\n",
    "# create nominatim object using iso country code of Canada (CA)\n",
    "nomi = pgeocode.Nominatim('CA')\n",
    "# get latitude and longitude from postal code\n",
    "for postal_code in df['Postal Code']:\n",
    "    lats.append(nomi.query_postal_code(postal_code).latitude)\n",
    "    longs.append(nomi.query_postal_code(postal_code).longitude)\n",
    "print('Length of latitudes, logitude lists:',len(lats),',',len(longs))"
   ]
  },
  {
   "cell_type": "markdown",
   "metadata": {},
   "source": [
    "### Add new data and clean df"
   ]
  },
  {
   "cell_type": "code",
   "execution_count": 10,
   "metadata": {},
   "outputs": [
    {
     "data": {
      "text/html": [
       "<div>\n",
       "<style scoped>\n",
       "    .dataframe tbody tr th:only-of-type {\n",
       "        vertical-align: middle;\n",
       "    }\n",
       "\n",
       "    .dataframe tbody tr th {\n",
       "        vertical-align: top;\n",
       "    }\n",
       "\n",
       "    .dataframe thead th {\n",
       "        text-align: right;\n",
       "    }\n",
       "</style>\n",
       "<table border=\"1\" class=\"dataframe\">\n",
       "  <thead>\n",
       "    <tr style=\"text-align: right;\">\n",
       "      <th></th>\n",
       "      <th>Postal Code</th>\n",
       "      <th>Borough</th>\n",
       "      <th>Neighbourhood</th>\n",
       "      <th>Latitude</th>\n",
       "      <th>Longitude</th>\n",
       "    </tr>\n",
       "  </thead>\n",
       "  <tbody>\n",
       "    <tr>\n",
       "      <th>114</th>\n",
       "      <td>M7R</td>\n",
       "      <td>Mississauga</td>\n",
       "      <td>Canada Post Gateway Processing Centre</td>\n",
       "      <td>NaN</td>\n",
       "      <td>NaN</td>\n",
       "    </tr>\n",
       "  </tbody>\n",
       "</table>\n",
       "</div>"
      ],
      "text/plain": [
       "    Postal Code      Borough                          Neighbourhood  Latitude  \\\n",
       "114         M7R  Mississauga  Canada Post Gateway Processing Centre       NaN   \n",
       "\n",
       "     Longitude  \n",
       "114        NaN  "
      ]
     },
     "execution_count": 10,
     "metadata": {},
     "output_type": "execute_result"
    }
   ],
   "source": [
    "df1 = df.copy()\n",
    "df1['Latitude'] = lats\n",
    "df1['Longitude'] = longs\n",
    "# find any row with NaN info\n",
    "df1[df1.isna().any(axis=1)]"
   ]
  },
  {
   "cell_type": "code",
   "execution_count": 11,
   "metadata": {},
   "outputs": [],
   "source": [
    "# drop NaN row\n",
    "df1.dropna(inplace=True)\n",
    "# reset index\n",
    "df1.reset_index(drop=True,inplace=True)"
   ]
  },
  {
   "cell_type": "code",
   "execution_count": 12,
   "metadata": {},
   "outputs": [
    {
     "data": {
      "text/plain": [
       "(102, 5)"
      ]
     },
     "execution_count": 12,
     "metadata": {},
     "output_type": "execute_result"
    }
   ],
   "source": [
    "df1.shape"
   ]
  },
  {
   "cell_type": "markdown",
   "metadata": {},
   "source": [
    "***"
   ]
  },
  {
   "cell_type": "markdown",
   "metadata": {},
   "source": [
    "## __Part 3 of 3__"
   ]
  },
  {
   "cell_type": "markdown",
   "metadata": {},
   "source": [
    "### Task: __Explore and cluster the neighborhoods in Toronto__"
   ]
  },
  {
   "cell_type": "markdown",
   "metadata": {},
   "source": [
    "### Create map of Toronto and neighborhoods"
   ]
  },
  {
   "cell_type": "code",
   "execution_count": 13,
   "metadata": {},
   "outputs": [],
   "source": [
    "import folium\n",
    "from geopy.geocoders import Nominatim"
   ]
  },
  {
   "cell_type": "code",
   "execution_count": 14,
   "metadata": {},
   "outputs": [],
   "source": [
    "# create map of Toronto\n",
    "address = 'Toronto'\n",
    "geolocator = Nominatim(user_agent='toronto')\n",
    "location = geolocator.geocode(address)\n",
    "latitude = location.latitude\n",
    "longitude = location.longitude\n",
    "map_toronto = folium.Map(location=[latitude,longitude],zoom_start=10)"
   ]
  },
  {
   "cell_type": "code",
   "execution_count": 15,
   "metadata": {},
   "outputs": [
    {
     "data": {
      "text/html": [
       "<div style=\"width:100%;\"><div style=\"position:relative;width:100%;height:0;padding-bottom:60%;\"><span style=\"color:#565656\">Make this Notebook Trusted to load map: File -> Trust Notebook</span><iframe src=\"about:blank\" style=\"position:absolute;width:100%;height:100%;left:0;top:0;border:none !important;\" data-html=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 onload=\"this.contentDocument.open();this.contentDocument.write(atob(this.getAttribute('data-html')));this.contentDocument.close();\" allowfullscreen webkitallowfullscreen mozallowfullscreen></iframe></div></div>"
      ],
      "text/plain": [
       "<folium.folium.Map at 0x15dc35140c8>"
      ]
     },
     "execution_count": 15,
     "metadata": {},
     "output_type": "execute_result"
    }
   ],
   "source": [
    "# add the neighborhoods from df1\n",
    "for lat, lng, borough, neighborhood in zip(df1['Latitude'],df1['Longitude'],df1['Borough'],df1['Neighbourhood']):\n",
    "    label = '{}, {}'.format(neighborhood, borough)\n",
    "    label = folium.Popup(label, parse_html=True)\n",
    "    folium.CircleMarker([lat,lng],radius=5, popup=label, color='green', fill=True,parase_html=False).add_to(map_toronto)\n",
    "map_toronto"
   ]
  },
  {
   "cell_type": "markdown",
   "metadata": {},
   "source": [
    "### Get venues from Foursquare"
   ]
  },
  {
   "cell_type": "code",
   "execution_count": 16,
   "metadata": {},
   "outputs": [],
   "source": [
    "# import new libraries\n",
    "import json\n",
    "import requests\n",
    "import numpy as np\n",
    "from pandas.io.json import json_normalize"
   ]
  },
  {
   "cell_type": "code",
   "execution_count": 17,
   "metadata": {},
   "outputs": [],
   "source": [
    "# define some variables\n",
    "CLIENT_ID = 'G35DEDCTV0G2QZHIJQYHJXWRJZDY1GAFWNFPWMMAFIEJ0L30' \n",
    "CLIENT_SECRET = 'N1KX1AWQCEQBWSYXMCJUTSB2JY204TO3F1O42BMKNKWRD0YJ'\n",
    "VERSION = '20180605'\n",
    "limit = 100\n",
    "radius = 500"
   ]
  },
  {
   "cell_type": "code",
   "execution_count": 18,
   "metadata": {},
   "outputs": [],
   "source": [
    "# Define a funtion to found venues to all neigbourhood\n",
    "def getNearbyVenues(names, latitudes, longitudes, radius=500):\n",
    "    \n",
    "    venues_list=[]\n",
    "    for name, lat, lng in zip(names, latitudes, longitudes):\n",
    "        print(name)\n",
    "            \n",
    "        # create the API request URL\n",
    "        url = 'https://api.foursquare.com/v2/venues/explore?&client_id={}&client_secret={}&v={}&ll={},{}&radius={}&limit={}'.format(\n",
    "            CLIENT_ID, \n",
    "            CLIENT_SECRET, \n",
    "            VERSION, \n",
    "            lat, \n",
    "            lng, \n",
    "            radius, \n",
    "            limit)\n",
    "            \n",
    "        # make the GET request\n",
    "        results = requests.get(url).json()[\"response\"]['groups'][0]['items']\n",
    "        \n",
    "        # return only relevant information for each nearby venue\n",
    "        venues_list.append([(\n",
    "            name, \n",
    "            lat, \n",
    "            lng, \n",
    "            v['venue']['name'], \n",
    "            v['venue']['location']['lat'], \n",
    "            v['venue']['location']['lng'],  \n",
    "            v['venue']['categories'][0]['name']) for v in results])\n",
    "\n",
    "    nearby_venues = pd.DataFrame([item for venue_list in venues_list for item in venue_list])\n",
    "    nearby_venues.columns = ['Neighborhood', \n",
    "                  'Neighborhood Latitude', \n",
    "                  'Neighborhood Longitude', \n",
    "                  'Venue', \n",
    "                  'Venue Latitude', \n",
    "                  'Venue Longitude', \n",
    "                  'Venue Category']\n",
    "    \n",
    "    return(nearby_venues)"
   ]
  },
  {
   "cell_type": "code",
   "execution_count": 19,
   "metadata": {},
   "outputs": [
    {
     "name": "stdout",
     "output_type": "stream",
     "text": [
      "Parkwoods\n",
      "Victoria Village\n",
      "Regent Park, Harbourfront\n",
      "Lawrence Manor, Lawrence Heights\n",
      "Queen's Park, Ontario Provincial Government\n",
      "Islington Avenue, Humber Valley Village\n",
      "Malvern, Rouge\n",
      "Don Mills\n",
      "Parkview Hill, Woodbine Gardens\n",
      "Garden District, Ryerson\n",
      "Glencairn\n",
      "West Deane Park, Princess Gardens, Martin Grove, Islington, Cloverdale\n",
      "Rouge Hill, Port Union, Highland Creek\n",
      "Don Mills\n",
      "Woodbine Heights\n",
      "St. James Town\n",
      "Humewood-Cedarvale\n",
      "Eringate, Bloordale Gardens, Old Burnhamthorpe, Markland Wood\n",
      "Guildwood, Morningside, West Hill\n",
      "The Beaches\n",
      "Berczy Park\n",
      "Caledonia-Fairbanks\n",
      "Woburn\n",
      "Leaside\n",
      "Central Bay Street\n",
      "Christie\n",
      "Cedarbrae\n",
      "Hillcrest Village\n",
      "Bathurst Manor, Wilson Heights, Downsview North\n",
      "Thorncliffe Park\n",
      "Richmond, Adelaide, King\n",
      "Dufferin, Dovercourt Village\n",
      "Scarborough Village\n",
      "Fairview, Henry Farm, Oriole\n",
      "Northwood Park, York University\n",
      "East Toronto, Broadview North (Old East York)\n",
      "Harbourfront East, Union Station, Toronto Islands\n",
      "Little Portugal, Trinity\n",
      "Kennedy Park, Ionview, East Birchmount Park\n",
      "Bayview Village\n",
      "Downsview\n",
      "The Danforth West, Riverdale\n",
      "Toronto Dominion Centre, Design Exchange\n",
      "Brockton, Parkdale Village, Exhibition Place\n",
      "Golden Mile, Clairlea, Oakridge\n",
      "York Mills, Silver Hills\n",
      "Downsview\n",
      "India Bazaar, The Beaches West\n",
      "Commerce Court, Victoria Hotel\n",
      "North Park, Maple Leaf Park, Upwood Park\n",
      "Humber Summit\n",
      "Cliffside, Cliffcrest, Scarborough Village West\n",
      "Willowdale, Newtonbrook\n",
      "Downsview\n",
      "Studio District\n",
      "Bedford Park, Lawrence Manor East\n",
      "Del Ray, Mount Dennis, Keelsdale and Silverthorn\n",
      "Humberlea, Emery\n",
      "Birch Cliff, Cliffside West\n",
      "Willowdale, Willowdale East\n",
      "Downsview\n",
      "Lawrence Park\n",
      "Roselawn\n",
      "Runnymede, The Junction North\n",
      "Weston\n",
      "Dorset Park, Wexford Heights, Scarborough Town Centre\n",
      "York Mills West\n",
      "Davisville North\n",
      "Forest Hill North & West, Forest Hill Road Park\n",
      "High Park, The Junction South\n",
      "Westmount\n",
      "Wexford, Maryvale\n",
      "Willowdale, Willowdale West\n",
      "North Toronto West, Lawrence Park\n",
      "The Annex, North Midtown, Yorkville\n",
      "Parkdale, Roncesvalles\n",
      "Kingsview Village, St. Phillips, Martin Grove Gardens, Richview Gardens\n",
      "Agincourt\n",
      "Davisville\n",
      "University of Toronto, Harbord\n",
      "Runnymede, Swansea\n",
      "Clarks Corners, Tam O'Shanter, Sullivan\n",
      "Moore Park, Summerhill East\n",
      "Kensington Market, Chinatown, Grange Park\n",
      "Milliken, Agincourt North, Steeles East, L'Amoreaux East\n",
      "Summerhill West, Rathnelly, South Hill, Forest Hill SE, Deer Park\n",
      "CN Tower, King and Spadina, Railway Lands, Harbourfront West, Bathurst Quay, South Niagara, Island airport\n",
      "New Toronto, Mimico South, Humber Bay Shores\n",
      "South Steeles, Silverstone, Humbergate, Jamestown, Mount Olive, Beaumond Heights, Thistletown, Albion Gardens\n",
      "Steeles West, L'Amoreaux West\n",
      "Rosedale\n",
      "Stn A PO Boxes\n",
      "Alderwood, Long Branch\n",
      "Northwest, West Humber - Clairville\n",
      "Upper Rouge\n",
      "St. James Town, Cabbagetown\n",
      "First Canadian Place, Underground city\n",
      "The Kingsway, Montgomery Road, Old Mill North\n",
      "Church and Wellesley\n",
      "Business reply mail Processing Centre, South Central Letter Processing Plant Toronto\n",
      "Old Mill South, King's Mill Park, Sunnylea, Humber Bay, Mimico NE, The Queensway East, Royal York South East, Kingsway Park South East\n",
      "Mimico NW, The Queensway West, South of Bloor, Kingsway Park South West, Royal York South West\n",
      "Total venues founded: 2167\n"
     ]
    }
   ],
   "source": [
    "# Apply the function to Toronto and see how many venues were found\n",
    "toronto_venues = getNearbyVenues(names=df1['Neighbourhood'],\n",
    "                                   latitudes=df1['Latitude'],\n",
    "                                   longitudes=df1['Longitude']\n",
    "                                  )\n",
    "print('Total venues founded:',len(toronto_venues))"
   ]
  },
  {
   "cell_type": "markdown",
   "metadata": {},
   "source": [
    "### Analyze each neigbourhood"
   ]
  },
  {
   "cell_type": "code",
   "execution_count": 20,
   "metadata": {},
   "outputs": [
    {
     "data": {
      "text/html": [
       "<div>\n",
       "<style scoped>\n",
       "    .dataframe tbody tr th:only-of-type {\n",
       "        vertical-align: middle;\n",
       "    }\n",
       "\n",
       "    .dataframe tbody tr th {\n",
       "        vertical-align: top;\n",
       "    }\n",
       "\n",
       "    .dataframe thead th {\n",
       "        text-align: right;\n",
       "    }\n",
       "</style>\n",
       "<table border=\"1\" class=\"dataframe\">\n",
       "  <thead>\n",
       "    <tr style=\"text-align: right;\">\n",
       "      <th></th>\n",
       "      <th>Yoga Studio</th>\n",
       "      <th>Accessories Store</th>\n",
       "      <th>Afghan Restaurant</th>\n",
       "      <th>Airport</th>\n",
       "      <th>American Restaurant</th>\n",
       "      <th>Art Gallery</th>\n",
       "      <th>Art Museum</th>\n",
       "      <th>Arts &amp; Crafts Store</th>\n",
       "      <th>Asian Restaurant</th>\n",
       "      <th>Athletics &amp; Sports</th>\n",
       "      <th>...</th>\n",
       "      <th>Turkish Restaurant</th>\n",
       "      <th>Vegetarian / Vegan Restaurant</th>\n",
       "      <th>Video Game Store</th>\n",
       "      <th>Video Store</th>\n",
       "      <th>Vietnamese Restaurant</th>\n",
       "      <th>Warehouse Store</th>\n",
       "      <th>Whisky Bar</th>\n",
       "      <th>Wine Bar</th>\n",
       "      <th>Wings Joint</th>\n",
       "      <th>Women's Store</th>\n",
       "    </tr>\n",
       "  </thead>\n",
       "  <tbody>\n",
       "    <tr>\n",
       "      <th>2162</th>\n",
       "      <td>0</td>\n",
       "      <td>0</td>\n",
       "      <td>0</td>\n",
       "      <td>0</td>\n",
       "      <td>0</td>\n",
       "      <td>0</td>\n",
       "      <td>0</td>\n",
       "      <td>0</td>\n",
       "      <td>0</td>\n",
       "      <td>0</td>\n",
       "      <td>...</td>\n",
       "      <td>0</td>\n",
       "      <td>0</td>\n",
       "      <td>0</td>\n",
       "      <td>0</td>\n",
       "      <td>0</td>\n",
       "      <td>0</td>\n",
       "      <td>0</td>\n",
       "      <td>0</td>\n",
       "      <td>0</td>\n",
       "      <td>0</td>\n",
       "    </tr>\n",
       "    <tr>\n",
       "      <th>2163</th>\n",
       "      <td>0</td>\n",
       "      <td>0</td>\n",
       "      <td>0</td>\n",
       "      <td>0</td>\n",
       "      <td>0</td>\n",
       "      <td>0</td>\n",
       "      <td>0</td>\n",
       "      <td>0</td>\n",
       "      <td>0</td>\n",
       "      <td>0</td>\n",
       "      <td>...</td>\n",
       "      <td>0</td>\n",
       "      <td>0</td>\n",
       "      <td>0</td>\n",
       "      <td>0</td>\n",
       "      <td>0</td>\n",
       "      <td>0</td>\n",
       "      <td>0</td>\n",
       "      <td>0</td>\n",
       "      <td>0</td>\n",
       "      <td>0</td>\n",
       "    </tr>\n",
       "    <tr>\n",
       "      <th>2164</th>\n",
       "      <td>0</td>\n",
       "      <td>0</td>\n",
       "      <td>0</td>\n",
       "      <td>0</td>\n",
       "      <td>0</td>\n",
       "      <td>0</td>\n",
       "      <td>0</td>\n",
       "      <td>0</td>\n",
       "      <td>0</td>\n",
       "      <td>0</td>\n",
       "      <td>...</td>\n",
       "      <td>0</td>\n",
       "      <td>0</td>\n",
       "      <td>0</td>\n",
       "      <td>0</td>\n",
       "      <td>0</td>\n",
       "      <td>0</td>\n",
       "      <td>0</td>\n",
       "      <td>0</td>\n",
       "      <td>0</td>\n",
       "      <td>0</td>\n",
       "    </tr>\n",
       "    <tr>\n",
       "      <th>2165</th>\n",
       "      <td>0</td>\n",
       "      <td>0</td>\n",
       "      <td>0</td>\n",
       "      <td>0</td>\n",
       "      <td>0</td>\n",
       "      <td>0</td>\n",
       "      <td>0</td>\n",
       "      <td>0</td>\n",
       "      <td>0</td>\n",
       "      <td>0</td>\n",
       "      <td>...</td>\n",
       "      <td>0</td>\n",
       "      <td>0</td>\n",
       "      <td>0</td>\n",
       "      <td>0</td>\n",
       "      <td>0</td>\n",
       "      <td>0</td>\n",
       "      <td>0</td>\n",
       "      <td>0</td>\n",
       "      <td>0</td>\n",
       "      <td>0</td>\n",
       "    </tr>\n",
       "    <tr>\n",
       "      <th>2166</th>\n",
       "      <td>0</td>\n",
       "      <td>0</td>\n",
       "      <td>0</td>\n",
       "      <td>0</td>\n",
       "      <td>0</td>\n",
       "      <td>0</td>\n",
       "      <td>0</td>\n",
       "      <td>0</td>\n",
       "      <td>0</td>\n",
       "      <td>0</td>\n",
       "      <td>...</td>\n",
       "      <td>0</td>\n",
       "      <td>0</td>\n",
       "      <td>0</td>\n",
       "      <td>0</td>\n",
       "      <td>0</td>\n",
       "      <td>0</td>\n",
       "      <td>0</td>\n",
       "      <td>0</td>\n",
       "      <td>0</td>\n",
       "      <td>0</td>\n",
       "    </tr>\n",
       "  </tbody>\n",
       "</table>\n",
       "<p>5 rows × 258 columns</p>\n",
       "</div>"
      ],
      "text/plain": [
       "      Yoga Studio  Accessories Store  Afghan Restaurant  Airport  \\\n",
       "2162            0                  0                  0        0   \n",
       "2163            0                  0                  0        0   \n",
       "2164            0                  0                  0        0   \n",
       "2165            0                  0                  0        0   \n",
       "2166            0                  0                  0        0   \n",
       "\n",
       "      American Restaurant  Art Gallery  Art Museum  Arts & Crafts Store  \\\n",
       "2162                    0            0           0                    0   \n",
       "2163                    0            0           0                    0   \n",
       "2164                    0            0           0                    0   \n",
       "2165                    0            0           0                    0   \n",
       "2166                    0            0           0                    0   \n",
       "\n",
       "      Asian Restaurant  Athletics & Sports  ...  Turkish Restaurant  \\\n",
       "2162                 0                   0  ...                   0   \n",
       "2163                 0                   0  ...                   0   \n",
       "2164                 0                   0  ...                   0   \n",
       "2165                 0                   0  ...                   0   \n",
       "2166                 0                   0  ...                   0   \n",
       "\n",
       "      Vegetarian / Vegan Restaurant  Video Game Store  Video Store  \\\n",
       "2162                              0                 0            0   \n",
       "2163                              0                 0            0   \n",
       "2164                              0                 0            0   \n",
       "2165                              0                 0            0   \n",
       "2166                              0                 0            0   \n",
       "\n",
       "      Vietnamese Restaurant  Warehouse Store  Whisky Bar  Wine Bar  \\\n",
       "2162                      0                0           0         0   \n",
       "2163                      0                0           0         0   \n",
       "2164                      0                0           0         0   \n",
       "2165                      0                0           0         0   \n",
       "2166                      0                0           0         0   \n",
       "\n",
       "      Wings Joint  Women's Store  \n",
       "2162            0              0  \n",
       "2163            0              0  \n",
       "2164            0              0  \n",
       "2165            0              0  \n",
       "2166            0              0  \n",
       "\n",
       "[5 rows x 258 columns]"
      ]
     },
     "execution_count": 20,
     "metadata": {},
     "output_type": "execute_result"
    }
   ],
   "source": [
    "# one hot encoding\n",
    "toronto_onehot = pd.get_dummies(toronto_venues[['Venue Category']], prefix=\"\", prefix_sep=\"\")\n",
    "\n",
    "# add neighborhood column back to dataframe\n",
    "toronto_onehot['Neighborhood'] = toronto_venues['Neighborhood'] \n",
    "\n",
    "# move neighborhood column to the first column\n",
    "fixed_columns = [toronto_onehot.columns[-1]] + list(toronto_onehot.columns[:-1])\n",
    "toronto_onehot = toronto_onehot[fixed_columns]\n",
    "\n",
    "toronto_onehot.tail()"
   ]
  },
  {
   "cell_type": "code",
   "execution_count": 21,
   "metadata": {},
   "outputs": [
    {
     "data": {
      "text/plain": [
       "(2167, 258)"
      ]
     },
     "execution_count": 21,
     "metadata": {},
     "output_type": "execute_result"
    }
   ],
   "source": [
    "toronto_onehot.shape"
   ]
  },
  {
   "cell_type": "code",
   "execution_count": 22,
   "metadata": {},
   "outputs": [
    {
     "data": {
      "text/html": [
       "<div>\n",
       "<style scoped>\n",
       "    .dataframe tbody tr th:only-of-type {\n",
       "        vertical-align: middle;\n",
       "    }\n",
       "\n",
       "    .dataframe tbody tr th {\n",
       "        vertical-align: top;\n",
       "    }\n",
       "\n",
       "    .dataframe thead th {\n",
       "        text-align: right;\n",
       "    }\n",
       "</style>\n",
       "<table border=\"1\" class=\"dataframe\">\n",
       "  <thead>\n",
       "    <tr style=\"text-align: right;\">\n",
       "      <th></th>\n",
       "      <th>Neighborhood</th>\n",
       "      <th>Yoga Studio</th>\n",
       "      <th>Accessories Store</th>\n",
       "      <th>Afghan Restaurant</th>\n",
       "      <th>Airport</th>\n",
       "      <th>American Restaurant</th>\n",
       "      <th>Art Gallery</th>\n",
       "      <th>Art Museum</th>\n",
       "      <th>Arts &amp; Crafts Store</th>\n",
       "      <th>Asian Restaurant</th>\n",
       "      <th>...</th>\n",
       "      <th>Turkish Restaurant</th>\n",
       "      <th>Vegetarian / Vegan Restaurant</th>\n",
       "      <th>Video Game Store</th>\n",
       "      <th>Video Store</th>\n",
       "      <th>Vietnamese Restaurant</th>\n",
       "      <th>Warehouse Store</th>\n",
       "      <th>Whisky Bar</th>\n",
       "      <th>Wine Bar</th>\n",
       "      <th>Wings Joint</th>\n",
       "      <th>Women's Store</th>\n",
       "    </tr>\n",
       "  </thead>\n",
       "  <tbody>\n",
       "    <tr>\n",
       "      <th>0</th>\n",
       "      <td>Agincourt</td>\n",
       "      <td>0.0</td>\n",
       "      <td>0.0</td>\n",
       "      <td>0.0</td>\n",
       "      <td>0.0</td>\n",
       "      <td>0.0</td>\n",
       "      <td>0.0</td>\n",
       "      <td>0.0</td>\n",
       "      <td>0.0</td>\n",
       "      <td>0.0</td>\n",
       "      <td>...</td>\n",
       "      <td>0.0</td>\n",
       "      <td>0.0</td>\n",
       "      <td>0.0</td>\n",
       "      <td>0.0</td>\n",
       "      <td>0.0</td>\n",
       "      <td>0.0</td>\n",
       "      <td>0.0</td>\n",
       "      <td>0.0</td>\n",
       "      <td>0.0</td>\n",
       "      <td>0.0</td>\n",
       "    </tr>\n",
       "    <tr>\n",
       "      <th>1</th>\n",
       "      <td>Alderwood, Long Branch</td>\n",
       "      <td>0.0</td>\n",
       "      <td>0.0</td>\n",
       "      <td>0.0</td>\n",
       "      <td>0.0</td>\n",
       "      <td>0.0</td>\n",
       "      <td>0.0</td>\n",
       "      <td>0.0</td>\n",
       "      <td>0.0</td>\n",
       "      <td>0.0</td>\n",
       "      <td>...</td>\n",
       "      <td>0.0</td>\n",
       "      <td>0.0</td>\n",
       "      <td>0.0</td>\n",
       "      <td>0.0</td>\n",
       "      <td>0.0</td>\n",
       "      <td>0.0</td>\n",
       "      <td>0.0</td>\n",
       "      <td>0.0</td>\n",
       "      <td>0.0</td>\n",
       "      <td>0.0</td>\n",
       "    </tr>\n",
       "    <tr>\n",
       "      <th>2</th>\n",
       "      <td>Bathurst Manor, Wilson Heights, Downsview North</td>\n",
       "      <td>0.0</td>\n",
       "      <td>0.0</td>\n",
       "      <td>0.0</td>\n",
       "      <td>0.0</td>\n",
       "      <td>0.0</td>\n",
       "      <td>0.0</td>\n",
       "      <td>0.0</td>\n",
       "      <td>0.0</td>\n",
       "      <td>0.0</td>\n",
       "      <td>...</td>\n",
       "      <td>0.0</td>\n",
       "      <td>0.0</td>\n",
       "      <td>0.0</td>\n",
       "      <td>0.0</td>\n",
       "      <td>0.0</td>\n",
       "      <td>0.0</td>\n",
       "      <td>0.0</td>\n",
       "      <td>0.0</td>\n",
       "      <td>0.0</td>\n",
       "      <td>0.0</td>\n",
       "    </tr>\n",
       "  </tbody>\n",
       "</table>\n",
       "<p>3 rows × 258 columns</p>\n",
       "</div>"
      ],
      "text/plain": [
       "                                      Neighborhood  Yoga Studio  \\\n",
       "0                                        Agincourt          0.0   \n",
       "1                           Alderwood, Long Branch          0.0   \n",
       "2  Bathurst Manor, Wilson Heights, Downsview North          0.0   \n",
       "\n",
       "   Accessories Store  Afghan Restaurant  Airport  American Restaurant  \\\n",
       "0                0.0                0.0      0.0                  0.0   \n",
       "1                0.0                0.0      0.0                  0.0   \n",
       "2                0.0                0.0      0.0                  0.0   \n",
       "\n",
       "   Art Gallery  Art Museum  Arts & Crafts Store  Asian Restaurant  ...  \\\n",
       "0          0.0         0.0                  0.0               0.0  ...   \n",
       "1          0.0         0.0                  0.0               0.0  ...   \n",
       "2          0.0         0.0                  0.0               0.0  ...   \n",
       "\n",
       "   Turkish Restaurant  Vegetarian / Vegan Restaurant  Video Game Store  \\\n",
       "0                 0.0                            0.0               0.0   \n",
       "1                 0.0                            0.0               0.0   \n",
       "2                 0.0                            0.0               0.0   \n",
       "\n",
       "   Video Store  Vietnamese Restaurant  Warehouse Store  Whisky Bar  Wine Bar  \\\n",
       "0          0.0                    0.0              0.0         0.0       0.0   \n",
       "1          0.0                    0.0              0.0         0.0       0.0   \n",
       "2          0.0                    0.0              0.0         0.0       0.0   \n",
       "\n",
       "   Wings Joint  Women's Store  \n",
       "0          0.0            0.0  \n",
       "1          0.0            0.0  \n",
       "2          0.0            0.0  \n",
       "\n",
       "[3 rows x 258 columns]"
      ]
     },
     "execution_count": 22,
     "metadata": {},
     "output_type": "execute_result"
    }
   ],
   "source": [
    "# group rows by neighborhood and by taking the mean of the frequency of occurrence of each category\n",
    "toronto_grouped = toronto_onehot.groupby('Neighborhood').mean().reset_index()\n",
    "toronto_grouped.head(3)"
   ]
  },
  {
   "cell_type": "code",
   "execution_count": 23,
   "metadata": {},
   "outputs": [],
   "source": [
    "# define a function to sort the venues in descending order\n",
    "def return_most_common_venues(row, num_top_venues):\n",
    "    row_categories = row.iloc[1:]\n",
    "    row_categories_sorted = row_categories.sort_values(ascending=False)\n",
    "    \n",
    "    return row_categories_sorted.index.values[0:num_top_venues]"
   ]
  },
  {
   "cell_type": "code",
   "execution_count": 24,
   "metadata": {},
   "outputs": [
    {
     "data": {
      "text/html": [
       "<div>\n",
       "<style scoped>\n",
       "    .dataframe tbody tr th:only-of-type {\n",
       "        vertical-align: middle;\n",
       "    }\n",
       "\n",
       "    .dataframe tbody tr th {\n",
       "        vertical-align: top;\n",
       "    }\n",
       "\n",
       "    .dataframe thead th {\n",
       "        text-align: right;\n",
       "    }\n",
       "</style>\n",
       "<table border=\"1\" class=\"dataframe\">\n",
       "  <thead>\n",
       "    <tr style=\"text-align: right;\">\n",
       "      <th></th>\n",
       "      <th>Neighborhood</th>\n",
       "      <th>1st Most Common Venue</th>\n",
       "      <th>2nd Most Common Venue</th>\n",
       "      <th>3rd Most Common Venue</th>\n",
       "      <th>4th Most Common Venue</th>\n",
       "      <th>5th Most Common Venue</th>\n",
       "      <th>6th Most Common Venue</th>\n",
       "      <th>7th Most Common Venue</th>\n",
       "      <th>8th Most Common Venue</th>\n",
       "      <th>9th Most Common Venue</th>\n",
       "      <th>10th Most Common Venue</th>\n",
       "    </tr>\n",
       "  </thead>\n",
       "  <tbody>\n",
       "    <tr>\n",
       "      <th>0</th>\n",
       "      <td>Agincourt</td>\n",
       "      <td>Breakfast Spot</td>\n",
       "      <td>Badminton Court</td>\n",
       "      <td>Skating Rink</td>\n",
       "      <td>Latin American Restaurant</td>\n",
       "      <td>Women's Store</td>\n",
       "      <td>Fast Food Restaurant</td>\n",
       "      <td>Event Space</td>\n",
       "      <td>Falafel Restaurant</td>\n",
       "      <td>Farmers Market</td>\n",
       "      <td>Filipino Restaurant</td>\n",
       "    </tr>\n",
       "    <tr>\n",
       "      <th>1</th>\n",
       "      <td>Alderwood, Long Branch</td>\n",
       "      <td>Convenience Store</td>\n",
       "      <td>Sandwich Place</td>\n",
       "      <td>Pizza Place</td>\n",
       "      <td>Coffee Shop</td>\n",
       "      <td>Pub</td>\n",
       "      <td>Gym</td>\n",
       "      <td>Eastern European Restaurant</td>\n",
       "      <td>Electronics Store</td>\n",
       "      <td>Ethiopian Restaurant</td>\n",
       "      <td>Event Space</td>\n",
       "    </tr>\n",
       "    <tr>\n",
       "      <th>2</th>\n",
       "      <td>Bathurst Manor, Wilson Heights, Downsview North</td>\n",
       "      <td>Mediterranean Restaurant</td>\n",
       "      <td>Middle Eastern Restaurant</td>\n",
       "      <td>Coffee Shop</td>\n",
       "      <td>Deli / Bodega</td>\n",
       "      <td>Other Repair Shop</td>\n",
       "      <td>Fried Chicken Joint</td>\n",
       "      <td>Pizza Place</td>\n",
       "      <td>Filipino Restaurant</td>\n",
       "      <td>Fish &amp; Chips Shop</td>\n",
       "      <td>Fish Market</td>\n",
       "    </tr>\n",
       "    <tr>\n",
       "      <th>3</th>\n",
       "      <td>Bayview Village</td>\n",
       "      <td>Flower Shop</td>\n",
       "      <td>Golf Driving Range</td>\n",
       "      <td>Dog Run</td>\n",
       "      <td>Park</td>\n",
       "      <td>Gas Station</td>\n",
       "      <td>Trail</td>\n",
       "      <td>Falafel Restaurant</td>\n",
       "      <td>Electronics Store</td>\n",
       "      <td>Ethiopian Restaurant</td>\n",
       "      <td>Event Space</td>\n",
       "    </tr>\n",
       "    <tr>\n",
       "      <th>4</th>\n",
       "      <td>Bedford Park, Lawrence Manor East</td>\n",
       "      <td>Coffee Shop</td>\n",
       "      <td>Sandwich Place</td>\n",
       "      <td>Italian Restaurant</td>\n",
       "      <td>Restaurant</td>\n",
       "      <td>Pharmacy</td>\n",
       "      <td>Comfort Food Restaurant</td>\n",
       "      <td>Juice Bar</td>\n",
       "      <td>Sushi Restaurant</td>\n",
       "      <td>Breakfast Spot</td>\n",
       "      <td>Pizza Place</td>\n",
       "    </tr>\n",
       "  </tbody>\n",
       "</table>\n",
       "</div>"
      ],
      "text/plain": [
       "                                      Neighborhood     1st Most Common Venue  \\\n",
       "0                                        Agincourt            Breakfast Spot   \n",
       "1                           Alderwood, Long Branch         Convenience Store   \n",
       "2  Bathurst Manor, Wilson Heights, Downsview North  Mediterranean Restaurant   \n",
       "3                                  Bayview Village               Flower Shop   \n",
       "4                Bedford Park, Lawrence Manor East               Coffee Shop   \n",
       "\n",
       "       2nd Most Common Venue 3rd Most Common Venue      4th Most Common Venue  \\\n",
       "0            Badminton Court          Skating Rink  Latin American Restaurant   \n",
       "1             Sandwich Place           Pizza Place                Coffee Shop   \n",
       "2  Middle Eastern Restaurant           Coffee Shop              Deli / Bodega   \n",
       "3         Golf Driving Range               Dog Run                       Park   \n",
       "4             Sandwich Place    Italian Restaurant                 Restaurant   \n",
       "\n",
       "  5th Most Common Venue    6th Most Common Venue        7th Most Common Venue  \\\n",
       "0         Women's Store     Fast Food Restaurant                  Event Space   \n",
       "1                   Pub                      Gym  Eastern European Restaurant   \n",
       "2     Other Repair Shop      Fried Chicken Joint                  Pizza Place   \n",
       "3           Gas Station                    Trail           Falafel Restaurant   \n",
       "4              Pharmacy  Comfort Food Restaurant                    Juice Bar   \n",
       "\n",
       "  8th Most Common Venue 9th Most Common Venue 10th Most Common Venue  \n",
       "0    Falafel Restaurant        Farmers Market    Filipino Restaurant  \n",
       "1     Electronics Store  Ethiopian Restaurant            Event Space  \n",
       "2   Filipino Restaurant     Fish & Chips Shop            Fish Market  \n",
       "3     Electronics Store  Ethiopian Restaurant            Event Space  \n",
       "4      Sushi Restaurant        Breakfast Spot            Pizza Place  "
      ]
     },
     "execution_count": 24,
     "metadata": {},
     "output_type": "execute_result"
    }
   ],
   "source": [
    "# create a new dataframe and display the top 10 venues for each neighborhood\n",
    "num_top_venues = 10\n",
    "indicators = ['st', 'nd', 'rd']\n",
    "# create columns according to number of top venues\n",
    "columns = ['Neighborhood']\n",
    "for ind in np.arange(num_top_venues):\n",
    "    try:\n",
    "        columns.append('{}{} Most Common Venue'.format(ind+1, indicators[ind]))\n",
    "    except:\n",
    "        columns.append('{}th Most Common Venue'.format(ind+1))\n",
    "\n",
    "# create a new dataframe\n",
    "toronto_venues_sorted = pd.DataFrame(columns=columns)\n",
    "toronto_venues_sorted['Neighborhood'] = toronto_grouped['Neighborhood']\n",
    "\n",
    "for ind in np.arange(toronto_grouped.shape[0]):\n",
    "    toronto_venues_sorted.iloc[ind, 1:] = return_most_common_venues(toronto_grouped.iloc[ind, :], num_top_venues)\n",
    "\n",
    "toronto_venues_sorted.head()"
   ]
  },
  {
   "cell_type": "markdown",
   "metadata": {},
   "source": [
    "### Cluster neighborhoods"
   ]
  },
  {
   "cell_type": "code",
   "execution_count": 25,
   "metadata": {},
   "outputs": [],
   "source": [
    "from sklearn.cluster import KMeans"
   ]
  },
  {
   "cell_type": "code",
   "execution_count": 26,
   "metadata": {},
   "outputs": [
    {
     "data": {
      "text/plain": [
       "array([1, 1, 1, 1, 1, 1, 1, 1, 1, 1])"
      ]
     },
     "execution_count": 26,
     "metadata": {},
     "output_type": "execute_result"
    }
   ],
   "source": [
    "# set number of clusters\n",
    "kclusters = 5\n",
    "toronto_grouped_clustering = toronto_grouped.drop('Neighborhood', 1)\n",
    "\n",
    "# run k-means clustering\n",
    "kmeans = KMeans(n_clusters=kclusters, random_state=0).fit(toronto_grouped_clustering)\n",
    "\n",
    "# check cluster labels generated for each row in the dataframe\n",
    "kmeans.labels_[0:10] "
   ]
  },
  {
   "cell_type": "code",
   "execution_count": 27,
   "metadata": {},
   "outputs": [
    {
     "data": {
      "text/html": [
       "<div>\n",
       "<style scoped>\n",
       "    .dataframe tbody tr th:only-of-type {\n",
       "        vertical-align: middle;\n",
       "    }\n",
       "\n",
       "    .dataframe tbody tr th {\n",
       "        vertical-align: top;\n",
       "    }\n",
       "\n",
       "    .dataframe thead th {\n",
       "        text-align: right;\n",
       "    }\n",
       "</style>\n",
       "<table border=\"1\" class=\"dataframe\">\n",
       "  <thead>\n",
       "    <tr style=\"text-align: right;\">\n",
       "      <th></th>\n",
       "      <th>Postal Code</th>\n",
       "      <th>Borough</th>\n",
       "      <th>Neighbourhood</th>\n",
       "      <th>Latitude</th>\n",
       "      <th>Longitude</th>\n",
       "      <th>Cluster Labels</th>\n",
       "      <th>1st Most Common Venue</th>\n",
       "      <th>2nd Most Common Venue</th>\n",
       "      <th>3rd Most Common Venue</th>\n",
       "      <th>4th Most Common Venue</th>\n",
       "      <th>5th Most Common Venue</th>\n",
       "      <th>6th Most Common Venue</th>\n",
       "      <th>7th Most Common Venue</th>\n",
       "      <th>8th Most Common Venue</th>\n",
       "      <th>9th Most Common Venue</th>\n",
       "      <th>10th Most Common Venue</th>\n",
       "    </tr>\n",
       "  </thead>\n",
       "  <tbody>\n",
       "    <tr>\n",
       "      <th>0</th>\n",
       "      <td>M3A</td>\n",
       "      <td>North York</td>\n",
       "      <td>Parkwoods</td>\n",
       "      <td>43.7545</td>\n",
       "      <td>-79.3300</td>\n",
       "      <td>2.0</td>\n",
       "      <td>Food &amp; Drink Shop</td>\n",
       "      <td>Park</td>\n",
       "      <td>Women's Store</td>\n",
       "      <td>Eastern European Restaurant</td>\n",
       "      <td>Flower Shop</td>\n",
       "      <td>Flea Market</td>\n",
       "      <td>Fish Market</td>\n",
       "      <td>Fish &amp; Chips Shop</td>\n",
       "      <td>Filipino Restaurant</td>\n",
       "      <td>Field</td>\n",
       "    </tr>\n",
       "    <tr>\n",
       "      <th>1</th>\n",
       "      <td>M4A</td>\n",
       "      <td>North York</td>\n",
       "      <td>Victoria Village</td>\n",
       "      <td>43.7276</td>\n",
       "      <td>-79.3148</td>\n",
       "      <td>1.0</td>\n",
       "      <td>Hockey Arena</td>\n",
       "      <td>French Restaurant</td>\n",
       "      <td>Coffee Shop</td>\n",
       "      <td>Intersection</td>\n",
       "      <td>Portuguese Restaurant</td>\n",
       "      <td>Park</td>\n",
       "      <td>Pizza Place</td>\n",
       "      <td>Fish &amp; Chips Shop</td>\n",
       "      <td>Filipino Restaurant</td>\n",
       "      <td>Field</td>\n",
       "    </tr>\n",
       "    <tr>\n",
       "      <th>2</th>\n",
       "      <td>M5A</td>\n",
       "      <td>Downtown Toronto</td>\n",
       "      <td>Regent Park, Harbourfront</td>\n",
       "      <td>43.6555</td>\n",
       "      <td>-79.3626</td>\n",
       "      <td>1.0</td>\n",
       "      <td>Coffee Shop</td>\n",
       "      <td>Breakfast Spot</td>\n",
       "      <td>Restaurant</td>\n",
       "      <td>Yoga Studio</td>\n",
       "      <td>Distribution Center</td>\n",
       "      <td>Food Truck</td>\n",
       "      <td>Spa</td>\n",
       "      <td>Event Space</td>\n",
       "      <td>Beer Store</td>\n",
       "      <td>Electronics Store</td>\n",
       "    </tr>\n",
       "    <tr>\n",
       "      <th>3</th>\n",
       "      <td>M6A</td>\n",
       "      <td>North York</td>\n",
       "      <td>Lawrence Manor, Lawrence Heights</td>\n",
       "      <td>43.7223</td>\n",
       "      <td>-79.4504</td>\n",
       "      <td>1.0</td>\n",
       "      <td>Clothing Store</td>\n",
       "      <td>Coffee Shop</td>\n",
       "      <td>Women's Store</td>\n",
       "      <td>Restaurant</td>\n",
       "      <td>Toy / Game Store</td>\n",
       "      <td>Sandwich Place</td>\n",
       "      <td>Cosmetics Shop</td>\n",
       "      <td>Sushi Restaurant</td>\n",
       "      <td>Men's Store</td>\n",
       "      <td>Bakery</td>\n",
       "    </tr>\n",
       "    <tr>\n",
       "      <th>4</th>\n",
       "      <td>M7A</td>\n",
       "      <td>Downtown Toronto</td>\n",
       "      <td>Queen's Park, Ontario Provincial Government</td>\n",
       "      <td>43.6641</td>\n",
       "      <td>-79.3889</td>\n",
       "      <td>1.0</td>\n",
       "      <td>Coffee Shop</td>\n",
       "      <td>Japanese Restaurant</td>\n",
       "      <td>Beer Bar</td>\n",
       "      <td>Burrito Place</td>\n",
       "      <td>Martial Arts School</td>\n",
       "      <td>Café</td>\n",
       "      <td>Mexican Restaurant</td>\n",
       "      <td>Ethiopian Restaurant</td>\n",
       "      <td>Ramen Restaurant</td>\n",
       "      <td>Bubble Tea Shop</td>\n",
       "    </tr>\n",
       "  </tbody>\n",
       "</table>\n",
       "</div>"
      ],
      "text/plain": [
       "  Postal Code           Borough                                Neighbourhood  \\\n",
       "0         M3A        North York                                    Parkwoods   \n",
       "1         M4A        North York                             Victoria Village   \n",
       "2         M5A  Downtown Toronto                    Regent Park, Harbourfront   \n",
       "3         M6A        North York             Lawrence Manor, Lawrence Heights   \n",
       "4         M7A  Downtown Toronto  Queen's Park, Ontario Provincial Government   \n",
       "\n",
       "   Latitude  Longitude  Cluster Labels 1st Most Common Venue  \\\n",
       "0   43.7545   -79.3300             2.0     Food & Drink Shop   \n",
       "1   43.7276   -79.3148             1.0          Hockey Arena   \n",
       "2   43.6555   -79.3626             1.0           Coffee Shop   \n",
       "3   43.7223   -79.4504             1.0        Clothing Store   \n",
       "4   43.6641   -79.3889             1.0           Coffee Shop   \n",
       "\n",
       "  2nd Most Common Venue 3rd Most Common Venue        4th Most Common Venue  \\\n",
       "0                  Park         Women's Store  Eastern European Restaurant   \n",
       "1     French Restaurant           Coffee Shop                 Intersection   \n",
       "2        Breakfast Spot            Restaurant                  Yoga Studio   \n",
       "3           Coffee Shop         Women's Store                   Restaurant   \n",
       "4   Japanese Restaurant              Beer Bar                Burrito Place   \n",
       "\n",
       "   5th Most Common Venue 6th Most Common Venue 7th Most Common Venue  \\\n",
       "0            Flower Shop           Flea Market           Fish Market   \n",
       "1  Portuguese Restaurant                  Park           Pizza Place   \n",
       "2    Distribution Center            Food Truck                   Spa   \n",
       "3       Toy / Game Store        Sandwich Place        Cosmetics Shop   \n",
       "4    Martial Arts School                  Café    Mexican Restaurant   \n",
       "\n",
       "  8th Most Common Venue 9th Most Common Venue 10th Most Common Venue  \n",
       "0     Fish & Chips Shop   Filipino Restaurant                  Field  \n",
       "1     Fish & Chips Shop   Filipino Restaurant                  Field  \n",
       "2           Event Space            Beer Store      Electronics Store  \n",
       "3      Sushi Restaurant           Men's Store                 Bakery  \n",
       "4  Ethiopian Restaurant      Ramen Restaurant        Bubble Tea Shop  "
      ]
     },
     "execution_count": 27,
     "metadata": {},
     "output_type": "execute_result"
    }
   ],
   "source": [
    "# Create new dataframe that includes the cluster\n",
    "# add clustering labels\n",
    "toronto_venues_sorted.insert(0, 'Cluster Labels', kmeans.labels_)\n",
    "toronto_merged = df1\n",
    "# merge toronto_grouped with toronto_data to add latitude/longitude for each neighborhood\n",
    "toronto_merged = toronto_merged.join(toronto_venues_sorted.set_index('Neighborhood'), on='Neighbourhood')\n",
    "# drop any nan value\n",
    "toronto_merged.dropna(inplace=True)\n",
    "toronto_merged.head()"
   ]
  },
  {
   "cell_type": "markdown",
   "metadata": {},
   "source": [
    "### Visualize the clusters"
   ]
  },
  {
   "cell_type": "code",
   "execution_count": 28,
   "metadata": {},
   "outputs": [],
   "source": [
    "import matplotlib.cm as cm\n",
    "import matplotlib.colors as colors"
   ]
  },
  {
   "cell_type": "code",
   "execution_count": 29,
   "metadata": {},
   "outputs": [],
   "source": [
    "# validate columns 'Cluster labels' is type 'int'\n",
    "toronto_merged = toronto_merged.astype({'Cluster Labels':int})"
   ]
  },
  {
   "cell_type": "code",
   "execution_count": 30,
   "metadata": {},
   "outputs": [
    {
     "data": {
      "text/html": [
       "<div style=\"width:100%;\"><div style=\"position:relative;width:100%;height:0;padding-bottom:60%;\"><span style=\"color:#565656\">Make this Notebook Trusted to load map: File -> Trust Notebook</span><iframe src=\"about:blank\" style=\"position:absolute;width:100%;height:100%;left:0;top:0;border:none !important;\" data-html=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 onload=\"this.contentDocument.open();this.contentDocument.write(atob(this.getAttribute('data-html')));this.contentDocument.close();\" allowfullscreen webkitallowfullscreen mozallowfullscreen></iframe></div></div>"
      ],
      "text/plain": [
       "<folium.folium.Map at 0x15dd06bc908>"
      ]
     },
     "execution_count": 30,
     "metadata": {},
     "output_type": "execute_result"
    }
   ],
   "source": [
    "map_clusters = folium.Map(location=[latitude, longitude], zoom_start=10)\n",
    "\n",
    "# set color scheme for the clusters\n",
    "x = np.arange(kclusters)\n",
    "ys = [i + x + (i*x)**2 for i in range(kclusters)]\n",
    "colors_array = cm.rainbow(np.linspace(0, 1, len(ys)))\n",
    "rainbow = [colors.rgb2hex(i) for i in colors_array]\n",
    "\n",
    "# add markers to the map\n",
    "markers_colors = []\n",
    "for lat, lon, poi, cluster in zip(toronto_merged['Latitude'], toronto_merged['Longitude'], toronto_merged['Neighbourhood'], toronto_merged['Cluster Labels']):\n",
    "    label = folium.Popup(str(poi) + ' Cluster ' + str(cluster), parse_html=True)\n",
    "    folium.CircleMarker(\n",
    "        [lat, lon],\n",
    "        radius=5,\n",
    "        popup=label,\n",
    "        color=rainbow[cluster-1],\n",
    "        fill=True,\n",
    "        fill_color=rainbow[cluster-1],\n",
    "        fill_opacity=0.7).add_to(map_clusters)\n",
    "       \n",
    "map_clusters"
   ]
  },
  {
   "cell_type": "markdown",
   "metadata": {},
   "source": [
    "### Examine Clusters"
   ]
  },
  {
   "cell_type": "code",
   "execution_count": 31,
   "metadata": {},
   "outputs": [
    {
     "data": {
      "text/plain": [
       "1    84\n",
       "2    12\n",
       "0     2\n",
       "4     1\n",
       "3     1\n",
       "Name: Cluster Labels, dtype: int64"
      ]
     },
     "execution_count": 31,
     "metadata": {},
     "output_type": "execute_result"
    }
   ],
   "source": [
    "# Let's see the size of every cluster\n",
    "toronto_merged['Cluster Labels'].value_counts()"
   ]
  },
  {
   "cell_type": "markdown",
   "metadata": {},
   "source": [
    "#### We can see on 2nd cluster the most visited venue are Parks"
   ]
  },
  {
   "cell_type": "code",
   "execution_count": 32,
   "metadata": {},
   "outputs": [
    {
     "name": "stdout",
     "output_type": "stream",
     "text": [
      "cluster2 common venues\n",
      " Park                   5\n",
      "Sporting Goods Shop    1\n",
      "Photography Studio     1\n",
      "Name: 1st Most Common Venue, dtype: int64\n",
      "cluster2 common venues\n",
      " Park                                        5\n",
      "Home Service                                2\n",
      "Residential Building (Apartment / Condo)    1\n",
      "Name: 2nd Most Common Venue, dtype: int64\n",
      "cluster2 common venues\n",
      " Gym              2\n",
      "Park             2\n",
      "Women's Store    2\n",
      "Name: 3rd Most Common Venue, dtype: int64\n"
     ]
    }
   ],
   "source": [
    "# review the second cluster creating a new dataframe\n",
    "cluster2 = toronto_merged.loc[toronto_merged['Cluster Labels'] == 2,:]\n",
    "# on this cluster we can validate that 1st, 2nd & 3rd Most common venue\n",
    "print('cluster2 common venues\\n',cluster2['1st Most Common Venue'].value_counts().head(3))\n",
    "print('cluster2 common venues\\n',cluster2['2nd Most Common Venue'].value_counts().head(3))\n",
    "print('cluster2 common venues\\n',cluster2['3rd Most Common Venue'].value_counts().head(3))"
   ]
  },
  {
   "cell_type": "markdown",
   "metadata": {},
   "source": [
    "#### We can see on 1st cluster the most visited venue are Coffe shop or Café"
   ]
  },
  {
   "cell_type": "code",
   "execution_count": 33,
   "metadata": {},
   "outputs": [
    {
     "name": "stdout",
     "output_type": "stream",
     "text": [
      "cluster1 common venues\n",
      " Coffee Shop    17\n",
      "Pizza Place    10\n",
      "Café            5\n",
      "Name: 1st Most Common Venue, dtype: int64\n",
      "cluster1 common venues\n",
      " Coffee Shop      12\n",
      "Café              7\n",
      "Women's Store     3\n",
      "Name: 2nd Most Common Venue, dtype: int64\n",
      "cluster1 common venues\n",
      " Coffee Shop    8\n",
      "Pizza Place    5\n",
      "Restaurant     5\n",
      "Name: 3rd Most Common Venue, dtype: int64\n"
     ]
    }
   ],
   "source": [
    "# review the first cluster creating a new dataframe\n",
    "cluster1 = toronto_merged.loc[toronto_merged['Cluster Labels'] == 1,:]\n",
    "# on this cluster we can validate that 1st, 2nd & 3rd Most common venue\n",
    "print('cluster1 common venues\\n',cluster1['1st Most Common Venue'].value_counts().head(3))\n",
    "print('cluster1 common venues\\n',cluster1['2nd Most Common Venue'].value_counts().head(3))\n",
    "print('cluster1 common venues\\n',cluster1['3rd Most Common Venue'].value_counts().head(3))"
   ]
  },
  {
   "cell_type": "code",
   "execution_count": null,
   "metadata": {},
   "outputs": [],
   "source": []
  }
 ],
 "metadata": {
  "kernelspec": {
   "display_name": "Python 3",
   "language": "python",
   "name": "python3"
  },
  "language_info": {
   "codemirror_mode": {
    "name": "ipython",
    "version": 3
   },
   "file_extension": ".py",
   "mimetype": "text/x-python",
   "name": "python",
   "nbconvert_exporter": "python",
   "pygments_lexer": "ipython3",
   "version": "3.7.6"
  }
 },
 "nbformat": 4,
 "nbformat_minor": 4
}
